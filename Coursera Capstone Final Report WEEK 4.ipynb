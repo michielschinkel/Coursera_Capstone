{
    "cells": [
        {
            "cell_type": "markdown",
            "metadata": {
                "collapsed": true
            },
            "source": "# Coursera Capstone Project Final Report\n## The Battle of the Neigbourhoods\n\n## Author: Michiel Schinkel"
        },
        {
            "cell_type": "markdown",
            "metadata": {},
            "source": "# Introduction\nIn today\u2019s society, the ability to use data to make decisions is becoming increasingly important. Data driven approaches to healthcare, marketing and business have shown great results. Data science provides us with the opportunity to learn from past events with an unprecedented accuracy and detect patterns that could otherwise go unnoticed. \n\nSuppose we would like to open up a new sandwich place, or any other type of venue in New York City (NYC). We could start looking for a place to open our shop at random and hope for the best. We could also make a more informed decision about there to open up our new place by looking at data of other venues in NYC and see where other sandwich places are located.\n\nThis project aims to find clusters of neighbourhoods based on geolocation and compare their characteristics to find the place within NYC that may offer the greatest chances of success for opening up a new sandwich place.\n"
        },
        {
            "cell_type": "markdown",
            "metadata": {},
            "source": "## Data\nSeveral data sources will be used for this project. First of all, a list of neighbourhoods in NYC is downloaded from the following location:\n\n-\thttps://cf-courses-data.s3.us.cloud-object-storage.appdomain.cloud/IBMDeveloperSkillsNetwork-DS0701EN-SkillsNetwork/labs/newyork_data.json\n\nSecondly, the location of data from NYC is obtained through the geolocator function from the geopy library. \n\nFinally, we sent a GET request through the Foursquare API to obtain venues surrounding all the different NYC neighbourhoods within a radius of 500 meters. These venues will be used as characteristics of the clusters and to decide upon the best location to start a new sandwich place.\n"
        }
    ],
    "metadata": {
        "kernelspec": {
            "display_name": "Python 3.7",
            "language": "python",
            "name": "python3"
        },
        "language_info": {
            "codemirror_mode": {
                "name": "ipython",
                "version": 3
            },
            "file_extension": ".py",
            "mimetype": "text/x-python",
            "name": "python",
            "nbconvert_exporter": "python",
            "pygments_lexer": "ipython3",
            "version": "3.7.9"
        }
    },
    "nbformat": 4,
    "nbformat_minor": 1
}